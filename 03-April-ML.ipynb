{
 "cells": [
  {
   "cell_type": "code",
   "execution_count": 1,
   "id": "374eb773-e7f5-4b5a-946d-aedb09b100b6",
   "metadata": {},
   "outputs": [
    {
     "data": {
      "text/plain": [
       "'\\nRecall: The ability of a model to find all the relevant cases within a data set. \\nMathematically, we define recall as the number of true positives divided by the number of true positives \\nplus the number of false negatives.\\nPrecision: The ability of a classification model to identify only the relevant data points.\\n'"
      ]
     },
     "execution_count": 1,
     "metadata": {},
     "output_type": "execute_result"
    }
   ],
   "source": [
    "## Q No. 1 :\n",
    "\"\"\"\n",
    "Recall: The ability of a model to find all the relevant cases within a data set. \n",
    "Mathematically, we define recall as the number of true positives divided by the number of true positives \n",
    "plus the number of false negatives.\n",
    "Precision: The ability of a classification model to identify only the relevant data points.\n",
    "\"\"\""
   ]
  },
  {
   "cell_type": "code",
   "execution_count": 2,
   "id": "cde9532e-bb65-4e43-8714-bdf9d4919160",
   "metadata": {},
   "outputs": [
    {
     "data": {
      "text/plain": [
       "'\\nF1-Score is a measure combining both precision and recall.\\nIt is generally described as the harmonic mean of the two.\\nHarmonic mean is just another way to calculate an “average” of values, generally described\\nas more suitable for ratios (such as precision and recall) than the traditional arithmetic mean.\\n'"
      ]
     },
     "execution_count": 2,
     "metadata": {},
     "output_type": "execute_result"
    }
   ],
   "source": [
    "## Q No. 2 :\n",
    "\"\"\"\n",
    "F1-Score is a measure combining both precision and recall.\n",
    "It is generally described as the harmonic mean of the two.\n",
    "Harmonic mean is just another way to calculate an “average” of values, generally described\n",
    "as more suitable for ratios (such as precision and recall) than the traditional arithmetic mean.\n",
    "\"\"\""
   ]
  },
  {
   "cell_type": "code",
   "execution_count": 3,
   "id": "beb37915-bfa1-4d67-ad23-25a9ca3813b0",
   "metadata": {},
   "outputs": [
    {
     "data": {
      "text/plain": [
       "'\\nROC is a probability curve and AUC represents the degree or measure of separability.\\nIt tells how much the model is capable of distinguishing between classes. \\nHigher the AUC, the better the model is at predicting 0 classes as 0 and 1 classes as 1.\\n'"
      ]
     },
     "execution_count": 3,
     "metadata": {},
     "output_type": "execute_result"
    }
   ],
   "source": [
    "## Q No. 3 :\n",
    "\"\"\"\n",
    "ROC is a probability curve and AUC represents the degree or measure of separability.\n",
    "It tells how much the model is capable of distinguishing between classes. \n",
    "Higher the AUC, the better the model is at predicting 0 classes as 0 and 1 classes as 1.\n",
    "\"\"\""
   ]
  },
  {
   "cell_type": "code",
   "execution_count": 4,
   "id": "f2e2a7c8-3562-4a1d-ac2d-5fd32e7f3992",
   "metadata": {},
   "outputs": [
    {
     "data": {
      "text/plain": [
       "'\\nMetrics like accuracy, precision, recall are good ways to evaluate classification models for balanced datasets,\\nbut if the data is imbalanced then other methods like ROC/AUC perform better in evaluating the model performance.\\n'"
      ]
     },
     "execution_count": 4,
     "metadata": {},
     "output_type": "execute_result"
    }
   ],
   "source": [
    "## Q No. 4 :\n",
    "\"\"\"\n",
    "Metrics like accuracy, precision, recall are good ways to evaluate classification models for balanced datasets,\n",
    "but if the data is imbalanced then other methods like ROC/AUC perform better in evaluating the model performance.\n",
    "\"\"\""
   ]
  },
  {
   "cell_type": "code",
   "execution_count": 5,
   "id": "e79b4378-4d77-44eb-9021-61a01adb668f",
   "metadata": {},
   "outputs": [
    {
     "data": {
      "text/plain": [
       "'\\nBinary classification are those tasks where examples are assigned exactly one of two classes. \\nMulti-class classification is those tasks where examples are assigned exactly one of more than two classes.\\n'"
      ]
     },
     "execution_count": 5,
     "metadata": {},
     "output_type": "execute_result"
    }
   ],
   "source": [
    "## What is multiclass classification and how is it different from binary classification?\n",
    "\"\"\"\n",
    "Binary classification are those tasks where examples are assigned exactly one of two classes. \n",
    "Multi-class classification is those tasks where examples are assigned exactly one of more than two classes.\n",
    "\"\"\""
   ]
  },
  {
   "cell_type": "code",
   "execution_count": 6,
   "id": "82b12725-cc4d-4ef0-a4f7-e3c4bd650605",
   "metadata": {},
   "outputs": [
    {
     "data": {
      "text/plain": [
       "'\\nLogistic regression, by default, is limited to two-class classification problems.\\nSome extensions like one-vs-rest can allow logistic regression to be used for multi-class classification problems,\\nalthough they require that the classification problem first be transformed into multiple binary classification problems\\n'"
      ]
     },
     "execution_count": 6,
     "metadata": {},
     "output_type": "execute_result"
    }
   ],
   "source": [
    "## Q No. 5 :\n",
    "\"\"\"\n",
    "Logistic regression, by default, is limited to two-class classification problems.\n",
    "Some extensions like one-vs-rest can allow logistic regression to be used for multi-class classification problems,\n",
    "although they require that the classification problem first be transformed into multiple binary classification problems\n",
    "\"\"\""
   ]
  },
  {
   "cell_type": "code",
   "execution_count": 7,
   "id": "13c6c628-e3a9-4da3-ac0f-da8c1646a5cb",
   "metadata": {},
   "outputs": [
    {
     "data": {
      "text/plain": [
       "'\\nIt comprises three basic steps: feature selection, classification model building and validation of the constructed model. \\nIn the feature selection step, it is necessary to create an optimal data subset which reduces noise and bias,\\nthereby enhancing the accuracy of classification process.\\n'"
      ]
     },
     "execution_count": 7,
     "metadata": {},
     "output_type": "execute_result"
    }
   ],
   "source": [
    "## Q No. 6 :\n",
    "\"\"\"\n",
    "It comprises three basic steps: feature selection, classification model building and validation of the constructed model. \n",
    "In the feature selection step, it is necessary to create an optimal data subset which reduces noise and bias,\n",
    "thereby enhancing the accuracy of classification process.\n",
    "\"\"\""
   ]
  },
  {
   "cell_type": "code",
   "execution_count": 8,
   "id": "f38a53be-6faf-4703-825a-1ffaf6cd257b",
   "metadata": {},
   "outputs": [
    {
     "data": {
      "text/plain": [
       "\"\\nModel deployment is the process of putting machine learning models into production.\\nThis makes the model's predictions available to users, developers or systems, so they can\\nmake business decisions based on data, interact with their application (like recognize a face in an image) and so on.\\n\""
      ]
     },
     "execution_count": 8,
     "metadata": {},
     "output_type": "execute_result"
    }
   ],
   "source": [
    "## Q No. 7 :\n",
    "\"\"\"\n",
    "Model deployment is the process of putting machine learning models into production.\n",
    "This makes the model's predictions available to users, developers or systems, so they can\n",
    "make business decisions based on data, interact with their application (like recognize a face in an image) and so on.\n",
    "\"\"\""
   ]
  },
  {
   "cell_type": "code",
   "execution_count": 10,
   "id": "8c80f0f8-8bf2-426a-88d8-30f53f699fc0",
   "metadata": {},
   "outputs": [
    {
     "data": {
      "text/plain": [
       "'\\nA multi-cloud deployment model allows organizations to choose the specific services that work best for them.\\nThey can then maximize the resources and pay only for what gets used. It provides a reliable architecture.\\nUsing multiple CSPs creates redundancies that minimize the risk of a single point of failure.\\n'"
      ]
     },
     "execution_count": 10,
     "metadata": {},
     "output_type": "execute_result"
    }
   ],
   "source": [
    "## Q No. 8 :\n",
    "\"\"\"\n",
    "A multi-cloud deployment model allows organizations to choose the specific services that work best for them.\n",
    "They can then maximize the resources and pay only for what gets used. It provides a reliable architecture.\n",
    "Using multiple CSPs creates redundancies that minimize the risk of a single point of failure.\n",
    "\"\"\""
   ]
  },
  {
   "cell_type": "code",
   "execution_count": 12,
   "id": "7e6cd15e-c4b2-4edb-9d88-00f0c03a816e",
   "metadata": {},
   "outputs": [
    {
     "data": {
      "text/plain": [
       "\"\\nA multicloud environment allows you to build anywhere, fast. With a multicloud approach, you're not tied to a single provider.\\nYou can choose whatever solution best suits your business needs while reducing data, \\ninteroperability, and cost issues that often arise when you become too dependent on one cloud.\\n\""
      ]
     },
     "execution_count": 12,
     "metadata": {},
     "output_type": "execute_result"
    }
   ],
   "source": [
    "## Q No. 9 :\n",
    "\"\"\"\n",
    "A multicloud environment allows you to build anywhere, fast. With a multicloud approach, you're not tied to a single provider.\n",
    "You can choose whatever solution best suits your business needs while reducing data, \n",
    "interoperability, and cost issues that often arise when you become too dependent on one cloud.\n",
    "\"\"\""
   ]
  }
 ],
 "metadata": {
  "kernelspec": {
   "display_name": "Python 3 (ipykernel)",
   "language": "python",
   "name": "python3"
  },
  "language_info": {
   "codemirror_mode": {
    "name": "ipython",
    "version": 3
   },
   "file_extension": ".py",
   "mimetype": "text/x-python",
   "name": "python",
   "nbconvert_exporter": "python",
   "pygments_lexer": "ipython3",
   "version": "3.10.8"
  }
 },
 "nbformat": 4,
 "nbformat_minor": 5
}
